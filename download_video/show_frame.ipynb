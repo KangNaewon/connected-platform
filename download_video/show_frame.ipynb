{
 "cells": [
  {
   "cell_type": "markdown",
   "metadata": {},
   "source": [
    "### 필수 패키지 다운로드\n",
    "---"
   ]
  },
  {
   "cell_type": "code",
   "execution_count": 8,
   "metadata": {
    "vscode": {
     "languageId": "shellscript"
    }
   },
   "outputs": [
    {
     "name": "stdout",
     "output_type": "stream",
     "text": [
      "Requirement already satisfied: tqdm in ./.conda/lib/python3.11/site-packages (4.67.0)\n",
      "Requirement already satisfied: opencv-python in ./.conda/lib/python3.11/site-packages (4.10.0.84)\n",
      "Requirement already satisfied: yt-dlp[default] in ./.conda/lib/python3.11/site-packages (2024.11.4)\n",
      "Requirement already satisfied: brotli in ./.conda/lib/python3.11/site-packages (from yt-dlp[default]) (1.1.0)\n",
      "Requirement already satisfied: certifi in ./.conda/lib/python3.11/site-packages (from yt-dlp[default]) (2024.8.30)\n",
      "Requirement already satisfied: mutagen in ./.conda/lib/python3.11/site-packages (from yt-dlp[default]) (1.47.0)\n",
      "Requirement already satisfied: pycryptodomex in ./.conda/lib/python3.11/site-packages (from yt-dlp[default]) (3.21.0)\n",
      "Requirement already satisfied: requests<3,>=2.32.2 in ./.conda/lib/python3.11/site-packages (from yt-dlp[default]) (2.32.3)\n",
      "Requirement already satisfied: urllib3<3,>=1.26.17 in ./.conda/lib/python3.11/site-packages (from yt-dlp[default]) (2.2.3)\n",
      "Requirement already satisfied: websockets>=13.0 in ./.conda/lib/python3.11/site-packages (from yt-dlp[default]) (14.0)\n",
      "Requirement already satisfied: numpy>=1.21.2 in ./.conda/lib/python3.11/site-packages (from opencv-python) (2.1.3)\n",
      "Requirement already satisfied: charset-normalizer<4,>=2 in ./.conda/lib/python3.11/site-packages (from requests<3,>=2.32.2->yt-dlp[default]) (3.4.0)\n",
      "Requirement already satisfied: idna<4,>=2.5 in ./.conda/lib/python3.11/site-packages (from requests<3,>=2.32.2->yt-dlp[default]) (3.10)\n",
      "Note: you may need to restart the kernel to use updated packages.\n"
     ]
    }
   ],
   "source": [
    "pip install -U \"yt-dlp[default]\" \"tqdm\" \"opencv-python\""
   ]
  },
  {
   "cell_type": "code",
   "execution_count": 1,
   "metadata": {
    "vscode": {
     "languageId": "shellscript"
    }
   },
   "outputs": [
    {
     "name": "stdout",
     "output_type": "stream",
     "text": [
      "Channels:\n",
      " - conda-forge\n",
      " - defaults\n",
      "Platform: osx-arm64\n",
      "Collecting package metadata (repodata.json): / ^C\n",
      "\n",
      "Note: you may need to restart the kernel to use updated packages.\n"
     ]
    }
   ],
   "source": [
    "conda install -c conda-forge ffmpeg"
   ]
  },
  {
   "cell_type": "markdown",
   "metadata": {},
   "source": [
    "### Video 파일 경로 설정 및 다운로드\n",
    "---"
   ]
  },
  {
   "cell_type": "code",
   "execution_count": 2,
   "metadata": {},
   "outputs": [],
   "source": [
    "import os\n",
    "from download_video import download_video"
   ]
  },
  {
   "cell_type": "markdown",
   "metadata": {},
   "source": [
    "#### Video Config"
   ]
  },
  {
   "cell_type": "code",
   "execution_count": 3,
   "metadata": {},
   "outputs": [],
   "source": [
    "# Video 포함 디렉토리 및 파일명 (확장자 제외, 확장자는 mp4로 고정)\n",
    "video_dir = './'\n",
    "video_name = 'test'\n",
    "\n",
    "# Youtube Video Link 입력 또는 Youtube ID 입력\n",
    "\n",
    "video_id = 'QgaTjRH5sqk'\n",
    "video_link = f'https://www.youtube.com/watch?v={video_id}'"
   ]
  },
  {
   "cell_type": "markdown",
   "metadata": {},
   "source": [
    "#### 비디오 파일 확인 및 다운로드"
   ]
  },
  {
   "cell_type": "code",
   "execution_count": 5,
   "metadata": {},
   "outputs": [
    {
     "name": "stdout",
     "output_type": "stream",
     "text": [
      "Download Video from https://www.youtube.com/watch?v=QgaTjRH5sqk to ./test.mp4\n",
      "[youtube] Extracting URL: https://www.youtube.com/watch?v=QgaTjRH5sqk\n",
      "[youtube] QgaTjRH5sqk: Downloading webpage\n",
      "[youtube] QgaTjRH5sqk: Downloading ios player API JSON\n",
      "[youtube] QgaTjRH5sqk: Downloading mweb player API JSON\n",
      "[youtube] QgaTjRH5sqk: Downloading m3u8 information\n",
      "[info] QgaTjRH5sqk: Downloading 1 format(s): 18\n",
      "[download] Destination: ./test.mp4\n",
      "[download] 100% of    2.58MiB in 00:00:00 at 3.48MiB/s     \n"
     ]
    }
   ],
   "source": [
    "# Youtube Video Link로부터 Video 다운로드\n",
    "video_path = os.path.join(video_dir, video_name)\n",
    "\n",
    "# 파일 존재하는지 체크\n",
    "if not os.path.isfile(f'{video_path}.mp4'):\n",
    "    print(f'Download Video from {video_link} to {video_path}.mp4')\n",
    "    download_video(video_link, video_path)\n",
    "else: \n",
    "    print(f'File {video_path}.mp4 already exists')"
   ]
  },
  {
   "cell_type": "markdown",
   "metadata": {},
   "source": [
    "### Get frame from the video\n",
    "---\n",
    "#### Frame config"
   ]
  },
  {
   "cell_type": "code",
   "execution_count": null,
   "metadata": {},
   "outputs": [],
   "source": [
    "# fps, frame number 입력\n",
    "fps = 20 # default: 20\n",
    "frame_num = 300"
   ]
  },
  {
   "cell_type": "markdown",
   "metadata": {},
   "source": [
    "#### Show frame"
   ]
  },
  {
   "cell_type": "code",
   "execution_count": null,
   "metadata": {},
   "outputs": [],
   "source": [
    "video_path = os.path.join(video_dir, video_name) + '.mp4'\n",
    "\n",
    "frame = extract_frame(video_path, fps, frame_num)\n",
    "\n",
    "if frame is not None:\n",
    "    fig, ax = plt.subplots(figsize=[10, 10])\n",
    "    ax.set_xticks([])\n",
    "    ax.set_yticks([])\n",
    "    ax.imshow(frame)\n",
    "\n",
    "    plt.show()"
   ]
  },
  {
   "cell_type": "code",
   "execution_count": null,
   "metadata": {},
   "outputs": [],
   "source": []
  },
  {
   "cell_type": "markdown",
   "metadata": {},
   "source": [
    "#### Save frame"
   ]
  },
  {
   "cell_type": "code",
   "execution_count": null,
   "metadata": {},
   "outputs": [],
   "source": [
    "save_dir = video_dir\n",
    "save_name = video_name\n",
    "\n",
    "save_path = os.path.join(save_dir, save_name)\n",
    "plt.imsave(f'{save_path}_frame{frame_num}.png', frame)"
   ]
  }
 ],
 "metadata": {
  "kernelspec": {
   "display_name": "Python 3",
   "language": "python",
   "name": "python3"
  },
  "language_info": {
   "codemirror_mode": {
    "name": "ipython",
    "version": 3
   },
   "file_extension": ".py",
   "mimetype": "text/x-python",
   "name": "python",
   "nbconvert_exporter": "python",
   "pygments_lexer": "ipython3",
   "version": "3.11.10"
  }
 },
 "nbformat": 4,
 "nbformat_minor": 2
}
