{
 "cells": [
  {
   "cell_type": "markdown",
   "metadata": {},
   "source": [
    "### 필수 패키지 다운로드\n",
    "---"
   ]
  },
  {
   "cell_type": "code",
   "execution_count": 2,
   "metadata": {
    "vscode": {
     "languageId": "shellscript"
    }
   },
   "outputs": [
    {
     "name": "stdout",
     "output_type": "stream",
     "text": [
      "Error while loading conda entry point: conda-libmamba-solver (dlopen(/opt/homebrew/Caskroom/miniconda/base/lib/python3.12/site-packages/libmambapy/bindings.cpython-312-darwin.so, 0x0002): Library not loaded: @rpath/libarchive.20.dylib\n",
      "  Referenced from: <496442DC-0EDE-3705-A2B5-401A4FC0D733> /opt/homebrew/Caskroom/miniconda/base/lib/libmamba.2.0.0.dylib\n",
      "  Reason: tried: '/opt/homebrew/Caskroom/miniconda/base/lib/libarchive.20.dylib' (no such file), '/opt/homebrew/Caskroom/miniconda/base/lib/python3.12/site-packages/libmambapy/../../../libarchive.20.dylib' (no such file), '/opt/homebrew/Caskroom/miniconda/base/lib/python3.12/site-packages/libmambapy/../../../libarchive.20.dylib' (no such file), '/opt/homebrew/Caskroom/miniconda/base/bin/../lib/libarchive.20.dylib' (no such file), '/opt/homebrew/Caskroom/miniconda/base/bin/../lib/libarchive.20.dylib' (no such file), '/usr/local/lib/libarchive.20.dylib' (no such file), '/usr/lib/libarchive.20.dylib' (no such file, not in dyld cache))\n",
      "\n",
      "CondaValueError: You have chosen a non-default solver backend (libmamba) but it was not recognized. Choose one of: classic\n",
      "\n",
      "\n",
      "Note: you may need to restart the kernel to use updated packages.\n"
     ]
    }
   ],
   "source": [
    "conda install -c conda-forge ffmpeg"
   ]
  },
  {
   "cell_type": "code",
   "execution_count": 3,
   "metadata": {
    "vscode": {
     "languageId": "shellscript"
    }
   },
   "outputs": [
    {
     "name": "stdout",
     "output_type": "stream",
     "text": [
      "Requirement already satisfied: tqdm in /opt/homebrew/Caskroom/miniconda/base/lib/python3.12/site-packages (4.67.1)\n",
      "Requirement already satisfied: opencv-python in /opt/homebrew/Caskroom/miniconda/base/lib/python3.12/site-packages (4.10.0.84)\n",
      "Requirement already satisfied: yt-dlp[default] in /opt/homebrew/Caskroom/miniconda/base/lib/python3.12/site-packages (2024.11.18)\n",
      "Requirement already satisfied: brotli in /opt/homebrew/Caskroom/miniconda/base/lib/python3.12/site-packages (from yt-dlp[default]) (1.0.9)\n",
      "Requirement already satisfied: certifi in /opt/homebrew/Caskroom/miniconda/base/lib/python3.12/site-packages (from yt-dlp[default]) (2024.8.30)\n",
      "Requirement already satisfied: mutagen in /opt/homebrew/Caskroom/miniconda/base/lib/python3.12/site-packages (from yt-dlp[default]) (1.47.0)\n",
      "Requirement already satisfied: pycryptodomex in /opt/homebrew/Caskroom/miniconda/base/lib/python3.12/site-packages (from yt-dlp[default]) (3.21.0)\n",
      "Requirement already satisfied: requests<3,>=2.32.2 in /opt/homebrew/Caskroom/miniconda/base/lib/python3.12/site-packages (from yt-dlp[default]) (2.32.3)\n",
      "Requirement already satisfied: urllib3<3,>=1.26.17 in /opt/homebrew/Caskroom/miniconda/base/lib/python3.12/site-packages (from yt-dlp[default]) (2.2.3)\n",
      "Requirement already satisfied: websockets<14,>=13.0 in /opt/homebrew/Caskroom/miniconda/base/lib/python3.12/site-packages (from yt-dlp[default]) (13.1)\n",
      "Requirement already satisfied: numpy>=1.21.2 in /opt/homebrew/Caskroom/miniconda/base/lib/python3.12/site-packages (from opencv-python) (2.1.3)\n",
      "Requirement already satisfied: charset-normalizer<4,>=2 in /opt/homebrew/Caskroom/miniconda/base/lib/python3.12/site-packages (from requests<3,>=2.32.2->yt-dlp[default]) (3.3.2)\n",
      "Requirement already satisfied: idna<4,>=2.5 in /opt/homebrew/Caskroom/miniconda/base/lib/python3.12/site-packages (from requests<3,>=2.32.2->yt-dlp[default]) (3.7)\n",
      "Note: you may need to restart the kernel to use updated packages.\n"
     ]
    }
   ],
   "source": [
    "pip install -U \"yt-dlp[default]\" \"tqdm\" \"opencv-python\""
   ]
  },
  {
   "cell_type": "markdown",
   "metadata": {},
   "source": [
    "### Video 파일 경로 설정 및 다운로드\n",
    "---"
   ]
  },
  {
   "cell_type": "code",
   "execution_count": 4,
   "metadata": {},
   "outputs": [],
   "source": [
    "import os\n",
    "from download_video import download_video\n",
    "from get_format_code import get_format_code"
   ]
  },
  {
   "cell_type": "markdown",
   "metadata": {},
   "source": [
    "#### Video Config"
   ]
  },
  {
   "cell_type": "code",
   "execution_count": 11,
   "metadata": {},
   "outputs": [
    {
     "name": "stdout",
     "output_type": "stream",
     "text": [
      "/Users/knw125/Desktop/connected/example/hls/download_video/../backend/videos/test2\n"
     ]
    }
   ],
   "source": [
    "# Video 포함 디렉토리 및 파일명 (확장자 제외, 확장자는 mp4로 고정)\n",
    "video_name = 'test2'\n",
    "video_dir = os.path.join(os.getcwd(), '..', 'backend', 'videos', video_name)\n",
    "\n",
    "print(video_dir)\n",
    "\n",
    "if not os.path.isdir(video_dir):\n",
    "    os.makedirs(os.path.dirname(video_dir))\n",
    "\n",
    "# Youtube Video Link 입력 또는 Youtube ID 입력\n",
    "video_id = 'FtPmypWNITc'\n",
    "video_link = f'https://www.youtube.com/watch?v={video_id}'\n",
    "\n",
    "# 원하는 화질 선택 \n",
    "# (360p: 640x360, 480p: 854x480, 720p: 1280x720, 1080p: 1920x1080)\n",
    "disired_format = '1920x1080'"
   ]
  },
  {
   "cell_type": "markdown",
   "metadata": {},
   "source": []
  },
  {
   "cell_type": "markdown",
   "metadata": {},
   "source": [
    "#### 비디오 파일 확인 및 다운로드"
   ]
  },
  {
   "cell_type": "code",
   "execution_count": 12,
   "metadata": {},
   "outputs": [],
   "source": [
    "# 다운로드 가능한 화질 목록 확인\n",
    "format_list = get_format_code(video_link)\n",
    "\n",
    "# 화질 id 확인\n",
    "try:\n",
    "    format_id = format_list[disired_format]\n",
    "except KeyError:\n",
    "    print(f'{disired_format} is not available. Please choose one of the following formats.')\n",
    "    for key in format_list.keys():\n",
    "        print(key)"
   ]
  },
  {
   "cell_type": "code",
   "execution_count": 13,
   "metadata": {},
   "outputs": [
    {
     "name": "stdout",
     "output_type": "stream",
     "text": [
      "Format ID for 1920x1080: 248\n",
      "Download Video from https://www.youtube.com/watch?v=FtPmypWNITc to /Users/knw125/Desktop/connected/example/hls/download_video/../backend/videos/test2/test2.mp4\n",
      "Downloading video to /Users/knw125/Desktop/connected/example/hls/download_video/../backend/videos/test2/test2\n",
      "[youtube] Extracting URL: https://www.youtube.com/watch?v=FtPmypWNITc\n",
      "[youtube] FtPmypWNITc: Downloading webpage\n",
      "[youtube] FtPmypWNITc: Downloading ios player API JSON\n",
      "[youtube] FtPmypWNITc: Downloading mweb player API JSON\n",
      "[youtube] FtPmypWNITc: Downloading m3u8 information\n",
      "[info] FtPmypWNITc: Downloading 1 format(s): 248+140\n",
      "[download] Destination: /Users/knw125/Desktop/connected/example/hls/download_video/../backend/videos/test2/test2.f248.webm\n",
      "[download] 100% of   98.77MiB in 00:00:03 at 28.63MiB/s    \n",
      "[download] Destination: /Users/knw125/Desktop/connected/example/hls/download_video/../backend/videos/test2/test2.f140.m4a\n",
      "[download] 100% of    8.82MiB in 00:00:06 at 1.45MiB/s     \n",
      "[Merger] Merging formats into \"/Users/knw125/Desktop/connected/example/hls/download_video/../backend/videos/test2/test2.mp4\"\n",
      "Deleting original file /Users/knw125/Desktop/connected/example/hls/download_video/../backend/videos/test2/test2.f248.webm (pass -k to keep)\n",
      "Deleting original file /Users/knw125/Desktop/connected/example/hls/download_video/../backend/videos/test2/test2.f140.m4a (pass -k to keep)\n"
     ]
    }
   ],
   "source": [
    "print(f'Format ID for {disired_format}: {format_id}')\n",
    "\n",
    "# Youtube Video Link로부터 Video 다운로드\n",
    "video_path = os.path.join(video_dir, video_name)\n",
    "\n",
    "# 파일 존재하는지 체크\n",
    "if not os.path.isfile(f'{video_path}.mp4'):\n",
    "    print(f'Download Video from {video_link} to {video_path}.mp4')\n",
    "    download_video(video_link, video_path, format_id)\n",
    "else: \n",
    "    print(f'File {video_path}.mp4 already exists')"
   ]
  }
 ],
 "metadata": {
  "kernelspec": {
   "display_name": ".venv",
   "language": "python",
   "name": "python3"
  },
  "language_info": {
   "codemirror_mode": {
    "name": "ipython",
    "version": 3
   },
   "file_extension": ".py",
   "mimetype": "text/x-python",
   "name": "python",
   "nbconvert_exporter": "python",
   "pygments_lexer": "ipython3",
   "version": "3.9.6"
  }
 },
 "nbformat": 4,
 "nbformat_minor": 2
}
