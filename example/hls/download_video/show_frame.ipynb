{
 "cells": [
  {
   "cell_type": "markdown",
   "metadata": {},
   "source": [
    "### 필수 패키지 다운로드\n",
    "---"
   ]
  },
  {
   "cell_type": "code",
   "execution_count": null,
   "metadata": {
    "vscode": {
     "languageId": "shellscript"
    }
   },
   "outputs": [],
   "source": [
    "conda install -c conda-forge ffmpeg"
   ]
  },
  {
   "cell_type": "code",
   "execution_count": 1,
   "metadata": {
    "vscode": {
     "languageId": "shellscript"
    }
   },
   "outputs": [
    {
     "name": "stdout",
     "output_type": "stream",
     "text": [
      "Requirement already satisfied: tqdm in /Users/toyoill/Workspace/Connected/connected-platform/.venv/lib/python3.9/site-packages (4.67.1)\n",
      "Requirement already satisfied: opencv-python in /Users/toyoill/Workspace/Connected/connected-platform/.venv/lib/python3.9/site-packages (4.10.0.84)\n",
      "Requirement already satisfied: yt-dlp[default] in /Users/toyoill/Workspace/Connected/connected-platform/.venv/lib/python3.9/site-packages (2024.11.18)\n",
      "Requirement already satisfied: brotli in /Users/toyoill/Workspace/Connected/connected-platform/.venv/lib/python3.9/site-packages (from yt-dlp[default]) (1.1.0)\n",
      "Requirement already satisfied: certifi in /Users/toyoill/Workspace/Connected/connected-platform/.venv/lib/python3.9/site-packages (from yt-dlp[default]) (2024.8.30)\n",
      "Requirement already satisfied: mutagen in /Users/toyoill/Workspace/Connected/connected-platform/.venv/lib/python3.9/site-packages (from yt-dlp[default]) (1.47.0)\n",
      "Requirement already satisfied: pycryptodomex in /Users/toyoill/Workspace/Connected/connected-platform/.venv/lib/python3.9/site-packages (from yt-dlp[default]) (3.21.0)\n",
      "Requirement already satisfied: requests<3,>=2.32.2 in /Users/toyoill/Workspace/Connected/connected-platform/.venv/lib/python3.9/site-packages (from yt-dlp[default]) (2.32.3)\n",
      "Requirement already satisfied: urllib3<3,>=1.26.17 in /Users/toyoill/Workspace/Connected/connected-platform/.venv/lib/python3.9/site-packages (from yt-dlp[default]) (2.2.3)\n",
      "Requirement already satisfied: websockets<14,>=13.0 in /Users/toyoill/Workspace/Connected/connected-platform/.venv/lib/python3.9/site-packages (from yt-dlp[default]) (13.1)\n",
      "Requirement already satisfied: numpy>=1.21.0 in /Users/toyoill/Workspace/Connected/connected-platform/.venv/lib/python3.9/site-packages (from opencv-python) (2.0.2)\n",
      "Requirement already satisfied: charset-normalizer<4,>=2 in /Users/toyoill/Workspace/Connected/connected-platform/.venv/lib/python3.9/site-packages (from requests<3,>=2.32.2->yt-dlp[default]) (3.4.0)\n",
      "Requirement already satisfied: idna<4,>=2.5 in /Users/toyoill/Workspace/Connected/connected-platform/.venv/lib/python3.9/site-packages (from requests<3,>=2.32.2->yt-dlp[default]) (3.10)\n",
      "Note: you may need to restart the kernel to use updated packages.\n"
     ]
    }
   ],
   "source": [
    "pip install -U \"yt-dlp[default]\" \"tqdm\" \"opencv-python\""
   ]
  },
  {
   "cell_type": "markdown",
   "metadata": {},
   "source": [
    "### Video 파일 경로 설정 및 다운로드\n",
    "---"
   ]
  },
  {
   "cell_type": "code",
   "execution_count": 2,
   "metadata": {},
   "outputs": [],
   "source": [
    "import os\n",
    "from download_video import download_video\n",
    "from get_format_code import get_format_code"
   ]
  },
  {
   "cell_type": "markdown",
   "metadata": {},
   "source": [
    "#### Video Config"
   ]
  },
  {
   "cell_type": "code",
   "execution_count": 3,
   "metadata": {},
   "outputs": [],
   "source": [
    "# Video 포함 디렉토리 및 파일명 (확장자 제외, 확장자는 mp4로 고정)\n",
    "video_name = 'test'\n",
    "video_dir = os.path.join(os.getcwd(), '..', 'backend', 'videos', video_name)\n",
    "\n",
    "if not os.path.isdir(video_dir):\n",
    "    os.makedirs(os.path.dirname(video_dir))\n",
    "\n",
    "# Youtube Video Link 입력 또는 Youtube ID 입력\n",
    "video_id = 'QgaTjRH5sqk'\n",
    "video_link = f'https://www.youtube.com/watch?v={video_id}'\n",
    "\n",
    "# 원하는 화질 선택 \n",
    "# (360p: 640x360, 480p: 854x480, 720p: 1280x720, 1080p: 1920x1080)\n",
    "disired_format = '640x360'"
   ]
  },
  {
   "cell_type": "markdown",
   "metadata": {},
   "source": [
    "#### 비디오 파일 확인 및 다운로드"
   ]
  },
  {
   "cell_type": "code",
   "execution_count": 4,
   "metadata": {},
   "outputs": [],
   "source": [
    "# 다운로드 가능한 화질 목록 확인\n",
    "format_list = get_format_code(video_link)\n",
    "\n",
    "# 화질 id 확인\n",
    "try:\n",
    "    format_id = format_list[disired_format]\n",
    "except KeyError:\n",
    "    print(f'{disired_format} is not available. Please choose one of the following formats.')\n",
    "    for key in format_list.keys():\n",
    "        print(key)"
   ]
  },
  {
   "cell_type": "code",
   "execution_count": 5,
   "metadata": {},
   "outputs": [
    {
     "name": "stdout",
     "output_type": "stream",
     "text": [
      "Format ID for 640x360: 396\n",
      "Download Video from https://www.youtube.com/watch?v=QgaTjRH5sqk to /Users/toyoill/Workspace/Connected/connected-platform/example/hls/download_video/../backend/videos/test/test.mp4\n",
      "Downloading video to /Users/toyoill/Workspace/Connected/connected-platform/example/hls/download_video/../backend/videos/test/test\n"
     ]
    },
    {
     "name": "stderr",
     "output_type": "stream",
     "text": [
      "/Users/toyoill/Workspace/Connected/connected-platform/.venv/lib/python3.9/site-packages/urllib3/__init__.py:35: NotOpenSSLWarning: urllib3 v2 only supports OpenSSL 1.1.1+, currently the 'ssl' module is compiled with 'LibreSSL 2.8.3'. See: https://github.com/urllib3/urllib3/issues/3020\n",
      "  warnings.warn(\n"
     ]
    },
    {
     "name": "stdout",
     "output_type": "stream",
     "text": [
      "[youtube] Extracting URL: https://www.youtube.com/watch?v=QgaTjRH5sqk\n",
      "[youtube] QgaTjRH5sqk: Downloading webpage\n",
      "[youtube] QgaTjRH5sqk: Downloading ios player API JSON\n",
      "[youtube] QgaTjRH5sqk: Downloading mweb player API JSON\n",
      "[youtube] QgaTjRH5sqk: Downloading m3u8 information\n",
      "[info] QgaTjRH5sqk: Downloading 1 format(s): 396+140\n",
      "[download] Destination: /Users/toyoill/Workspace/Connected/connected-platform/example/hls/download_video/../backend/videos/test/test.f396.mp4\n",
      "[download] 100% of    1.36MiB in 00:00:00 at 7.83MiB/s   \n",
      "[download] Destination: /Users/toyoill/Workspace/Connected/connected-platform/example/hls/download_video/../backend/videos/test/test.f140.m4a\n",
      "[download] 100% of  950.40KiB in 00:00:00 at 12.87MiB/s    \n"
     ]
    }
   ],
   "source": [
    "print(f'Format ID for {disired_format}: {format_id}')\n",
    "\n",
    "# Youtube Video Link로부터 Video 다운로드\n",
    "video_path = os.path.join(video_dir, video_name)\n",
    "\n",
    "# 파일 존재하는지 체크\n",
    "if not os.path.isfile(f'{video_path}.mp4'):\n",
    "    print(f'Download Video from {video_link} to {video_path}.mp4')\n",
    "    download_video(video_link, video_path, format_id)\n",
    "else: \n",
    "    print(f'File {video_path}.mp4 already exists')"
   ]
  }
 ],
 "metadata": {
  "kernelspec": {
   "display_name": ".venv",
   "language": "python",
   "name": "python3"
  },
  "language_info": {
   "codemirror_mode": {
    "name": "ipython",
    "version": 3
   },
   "file_extension": ".py",
   "mimetype": "text/x-python",
   "name": "python",
   "nbconvert_exporter": "python",
   "pygments_lexer": "ipython3",
   "version": "3.9.6"
  }
 },
 "nbformat": 4,
 "nbformat_minor": 2
}
