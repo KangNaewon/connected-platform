{
 "cells": [
  {
   "cell_type": "markdown",
   "metadata": {},
   "source": [
    "### 필수 패키지 다운로드\n",
    "---"
   ]
  },
  {
   "cell_type": "code",
   "execution_count": 1,
   "metadata": {
    "vscode": {
     "languageId": "shellscript"
    }
   },
   "outputs": [
    {
     "name": "stdout",
     "output_type": "stream",
     "text": [
      "Collecting tqdm\n",
      "  Using cached tqdm-4.67.0-py3-none-any.whl.metadata (57 kB)\n",
      "Collecting opencv-python\n",
      "  Using cached opencv_python-4.10.0.84-cp37-abi3-macosx_11_0_arm64.whl.metadata (20 kB)\n",
      "Collecting yt-dlp[default]\n",
      "  Using cached yt_dlp-2024.11.4-py3-none-any.whl.metadata (172 kB)\n",
      "Collecting brotli (from yt-dlp[default])\n",
      "  Using cached Brotli-1.1.0-cp311-cp311-macosx_10_9_universal2.whl.metadata (5.5 kB)\n",
      "Collecting certifi (from yt-dlp[default])\n",
      "  Using cached certifi-2024.8.30-py3-none-any.whl.metadata (2.2 kB)\n",
      "Collecting mutagen (from yt-dlp[default])\n",
      "  Using cached mutagen-1.47.0-py3-none-any.whl.metadata (1.7 kB)\n",
      "Collecting pycryptodomex (from yt-dlp[default])\n",
      "  Using cached pycryptodomex-3.21.0-cp36-abi3-macosx_10_9_universal2.whl.metadata (3.4 kB)\n",
      "Collecting requests<3,>=2.32.2 (from yt-dlp[default])\n",
      "  Using cached requests-2.32.3-py3-none-any.whl.metadata (4.6 kB)\n",
      "Collecting urllib3<3,>=1.26.17 (from yt-dlp[default])\n",
      "  Using cached urllib3-2.2.3-py3-none-any.whl.metadata (6.5 kB)\n",
      "Collecting websockets>=13.0 (from yt-dlp[default])\n",
      "  Using cached websockets-14.0-cp311-cp311-macosx_11_0_arm64.whl.metadata (6.7 kB)\n",
      "Collecting numpy>=1.21.2 (from opencv-python)\n",
      "  Using cached numpy-2.1.3-cp311-cp311-macosx_14_0_arm64.whl.metadata (62 kB)\n",
      "Collecting charset-normalizer<4,>=2 (from requests<3,>=2.32.2->yt-dlp[default])\n",
      "  Using cached charset_normalizer-3.4.0-cp311-cp311-macosx_11_0_arm64.whl.metadata (34 kB)\n",
      "Collecting idna<4,>=2.5 (from requests<3,>=2.32.2->yt-dlp[default])\n",
      "  Using cached idna-3.10-py3-none-any.whl.metadata (10 kB)\n",
      "Using cached tqdm-4.67.0-py3-none-any.whl (78 kB)\n",
      "Using cached opencv_python-4.10.0.84-cp37-abi3-macosx_11_0_arm64.whl (54.8 MB)\n",
      "Using cached numpy-2.1.3-cp311-cp311-macosx_14_0_arm64.whl (5.4 MB)\n",
      "Using cached requests-2.32.3-py3-none-any.whl (64 kB)\n",
      "Using cached certifi-2024.8.30-py3-none-any.whl (167 kB)\n",
      "Using cached urllib3-2.2.3-py3-none-any.whl (126 kB)\n",
      "Using cached websockets-14.0-cp311-cp311-macosx_11_0_arm64.whl (159 kB)\n",
      "Using cached Brotli-1.1.0-cp311-cp311-macosx_10_9_universal2.whl (873 kB)\n",
      "Using cached mutagen-1.47.0-py3-none-any.whl (194 kB)\n",
      "Using cached pycryptodomex-3.21.0-cp36-abi3-macosx_10_9_universal2.whl (2.5 MB)\n",
      "Using cached yt_dlp-2024.11.4-py3-none-any.whl (3.2 MB)\n",
      "Using cached charset_normalizer-3.4.0-cp311-cp311-macosx_11_0_arm64.whl (118 kB)\n",
      "Using cached idna-3.10-py3-none-any.whl (70 kB)\n",
      "Installing collected packages: brotli, yt-dlp, websockets, urllib3, tqdm, pycryptodomex, numpy, mutagen, idna, charset-normalizer, certifi, requests, opencv-python\n",
      "Successfully installed brotli-1.1.0 certifi-2024.8.30 charset-normalizer-3.4.0 idna-3.10 mutagen-1.47.0 numpy-2.1.3 opencv-python-4.10.0.84 pycryptodomex-3.21.0 requests-2.32.3 tqdm-4.67.0 urllib3-2.2.3 websockets-14.0 yt-dlp-2024.11.4\n",
      "Note: you may need to restart the kernel to use updated packages.\n"
     ]
    }
   ],
   "source": [
    "pip install -U \"yt-dlp[default]\" \"tqdm\" \"opencv-python\""
   ]
  },
  {
   "cell_type": "code",
   "execution_count": 2,
   "metadata": {
    "vscode": {
     "languageId": "shellscript"
    }
   },
   "outputs": [
    {
     "name": "stdout",
     "output_type": "stream",
     "text": [
      "Channels:\n",
      " - conda-forge\n",
      " - defaults\n",
      "Platform: osx-arm64\n",
      "Collecting package metadata (repodata.json): done\n",
      "Solving environment: done\n",
      "\n",
      "## Package Plan ##\n",
      "\n",
      "  environment location: /Users/toyoill/Workspace/Connected/connected-platform/test_hls/.conda\n",
      "\n",
      "  added / updated specs:\n",
      "    - ffmpeg\n",
      "\n",
      "\n",
      "The following NEW packages will be INSTALLED:\n",
      "\n",
      "  aom                conda-forge/osx-arm64::aom-3.9.1-h7bae524_0 \n",
      "  cairo              conda-forge/osx-arm64::cairo-1.18.0-hb4a6bf7_3 \n",
      "  dav1d              conda-forge/osx-arm64::dav1d-1.2.1-hb547adb_0 \n",
      "  ffmpeg             conda-forge/osx-arm64::ffmpeg-7.1.0-gpl_hd730352_103 \n",
      "  font-ttf-dejavu-s~ conda-forge/noarch::font-ttf-dejavu-sans-mono-2.37-hab24e00_0 \n",
      "  font-ttf-inconsol~ conda-forge/noarch::font-ttf-inconsolata-3.000-h77eed37_0 \n",
      "  font-ttf-source-c~ conda-forge/noarch::font-ttf-source-code-pro-2.038-h77eed37_0 \n",
      "  font-ttf-ubuntu    conda-forge/noarch::font-ttf-ubuntu-0.83-h77eed37_3 \n",
      "  fontconfig         conda-forge/osx-arm64::fontconfig-2.15.0-h1383a14_1 \n",
      "  fonts-conda-ecosy~ conda-forge/noarch::fonts-conda-ecosystem-1-0 \n",
      "  fonts-conda-forge  conda-forge/noarch::fonts-conda-forge-1-0 \n",
      "  freetype           conda-forge/osx-arm64::freetype-2.12.1-hadb7bae_2 \n",
      "  fribidi            conda-forge/osx-arm64::fribidi-1.0.10-h27ca646_0 \n",
      "  gdk-pixbuf         conda-forge/osx-arm64::gdk-pixbuf-2.42.12-h7ddc832_0 \n",
      "  gmp                conda-forge/osx-arm64::gmp-6.3.0-h7bae524_2 \n",
      "  graphite2          conda-forge/osx-arm64::graphite2-1.3.13-hebf3989_1003 \n",
      "  harfbuzz           conda-forge/osx-arm64::harfbuzz-9.0.0-h997cde5_1 \n",
      "  icu                conda-forge/osx-arm64::icu-75.1-hfee45f7_0 \n",
      "  lame               conda-forge/osx-arm64::lame-3.100-h1a8c8d9_1003 \n",
      "  lerc               conda-forge/osx-arm64::lerc-4.0.0-h9a09cb3_0 \n",
      "  libabseil          conda-forge/osx-arm64::libabseil-20240722.0-cxx17_hf9b8971_1 \n",
      "  libass             conda-forge/osx-arm64::libass-0.17.3-hf20b609_0 \n",
      "  libdeflate         conda-forge/osx-arm64::libdeflate-1.22-hd74edd7_0 \n",
      "  libexpat           conda-forge/osx-arm64::libexpat-2.6.4-h286801f_0 \n",
      "  libglib            conda-forge/osx-arm64::libglib-2.82.2-h07bd6cf_0 \n",
      "  libhwloc           conda-forge/osx-arm64::libhwloc-2.11.2-default_h3f80f97_1000 \n",
      "  libiconv           conda-forge/osx-arm64::libiconv-1.17-h0d3ecfb_2 \n",
      "  libintl            conda-forge/osx-arm64::libintl-0.22.5-h8414b35_3 \n",
      "  libjpeg-turbo      conda-forge/osx-arm64::libjpeg-turbo-3.0.0-hb547adb_1 \n",
      "  libopenvino        conda-forge/osx-arm64::libopenvino-2024.4.0-hbfeda7a_2 \n",
      "  libopenvino-arm-c~ conda-forge/osx-arm64::libopenvino-arm-cpu-plugin-2024.4.0-hbfeda7a_2 \n",
      "  libopenvino-auto-~ conda-forge/osx-arm64::libopenvino-auto-batch-plugin-2024.4.0-hf276634_2 \n",
      "  libopenvino-auto-~ conda-forge/osx-arm64::libopenvino-auto-plugin-2024.4.0-hf276634_2 \n",
      "  libopenvino-heter~ conda-forge/osx-arm64::libopenvino-hetero-plugin-2024.4.0-h03892cd_2 \n",
      "  libopenvino-ir-fr~ conda-forge/osx-arm64::libopenvino-ir-frontend-2024.4.0-h03892cd_2 \n",
      "  libopenvino-onnx-~ conda-forge/osx-arm64::libopenvino-onnx-frontend-2024.4.0-h7f5a098_2 \n",
      "  libopenvino-paddl~ conda-forge/osx-arm64::libopenvino-paddle-frontend-2024.4.0-h7f5a098_2 \n",
      "  libopenvino-pytor~ conda-forge/osx-arm64::libopenvino-pytorch-frontend-2024.4.0-h5833ebf_2 \n",
      "  libopenvino-tenso~ conda-forge/osx-arm64::libopenvino-tensorflow-frontend-2024.4.0-h9d544f2_2 \n",
      "  libopenvino-tenso~ conda-forge/osx-arm64::libopenvino-tensorflow-lite-frontend-2024.4.0-h5833ebf_2 \n",
      "  libopus            conda-forge/osx-arm64::libopus-1.3.1-h27ca646_1 \n",
      "  libpng             conda-forge/osx-arm64::libpng-1.6.44-hc14010f_0 \n",
      "  libprotobuf        conda-forge/osx-arm64::libprotobuf-5.28.2-h8f0b736_0 \n",
      "  librsvg            conda-forge/osx-arm64::librsvg-2.58.4-h40956f1_0 \n",
      "  libsqlite          conda-forge/osx-arm64::libsqlite-3.45.2-h091b4b1_0 \n",
      "  libtiff            conda-forge/osx-arm64::libtiff-4.7.0-hfce79cd_1 \n",
      "  libvpx             conda-forge/osx-arm64::libvpx-1.14.1-h7bae524_0 \n",
      "  libwebp-base       conda-forge/osx-arm64::libwebp-base-1.4.0-h93a5062_0 \n",
      "  libxml2            conda-forge/osx-arm64::libxml2-2.13.4-h8424949_2 \n",
      "  libzlib            conda-forge/osx-arm64::libzlib-1.3.1-h8359307_2 \n",
      "  openh264           conda-forge/osx-arm64::openh264-2.4.1-hebf3989_0 \n",
      "  pango              conda-forge/osx-arm64::pango-1.54.0-h9ee27a3_2 \n",
      "  pcre2              conda-forge/osx-arm64::pcre2-10.44-h297a79d_2 \n",
      "  pixman             conda-forge/osx-arm64::pixman-0.43.4-hebf3989_0 \n",
      "  pugixml            conda-forge/osx-arm64::pugixml-1.14-h13dd4ca_0 \n",
      "  snappy             conda-forge/osx-arm64::snappy-1.2.1-hd02b534_0 \n",
      "  svt-av1            conda-forge/osx-arm64::svt-av1-2.3.0-hf24288c_0 \n",
      "  tbb                conda-forge/osx-arm64::tbb-2022.0.0-h0cbf7ec_0 \n",
      "  x264               conda-forge/osx-arm64::x264-1!164.3095-h57fd34a_2 \n",
      "  x265               conda-forge/osx-arm64::x265-3.5-hbc6ce65_3 \n",
      "  zstd               conda-forge/osx-arm64::zstd-1.5.6-hb46c0d2_0 \n",
      "\n",
      "The following packages will be UPDATED:\n",
      "\n",
      "  zlib                    pkgs/main::zlib-1.2.13-h18a0788_1 --> conda-forge::zlib-1.3.1-h8359307_2 \n",
      "\n",
      "The following packages will be SUPERSEDED by a higher-priority channel:\n",
      "\n",
      "  python               pkgs/main::python-3.11.10-hb885b13_0 --> conda-forge::python-3.11.8-hdf0ec26_0_cpython \n",
      "  sqlite                pkgs/main::sqlite-3.45.3-h80987f9_0 --> conda-forge::sqlite-3.45.2-hf2abe2d_0 \n",
      "  tk                        pkgs/main::tk-8.6.14-h6ba3021_0 --> conda-forge::tk-8.6.13-h5083fa2_1 \n",
      "\n",
      "\n",
      "\n",
      "Downloading and Extracting Packages:\n",
      "\n",
      "Preparing transaction: done\n",
      "Verifying transaction: done\n",
      "Executing transaction: | \n",
      "| \n",
      "done\n",
      "\n",
      "Note: you may need to restart the kernel to use updated packages.\n"
     ]
    }
   ],
   "source": [
    "conda install -c conda-forge ffmpeg"
   ]
  },
  {
   "cell_type": "markdown",
   "metadata": {},
   "source": [
    "### Video 파일 경로 설정 및 다운로드\n",
    "---"
   ]
  },
  {
   "cell_type": "code",
   "execution_count": 3,
   "metadata": {},
   "outputs": [],
   "source": [
    "import os\n",
    "from download_video import download_video"
   ]
  },
  {
   "cell_type": "markdown",
   "metadata": {},
   "source": [
    "#### Video Config"
   ]
  },
  {
   "cell_type": "code",
   "execution_count": null,
   "metadata": {},
   "outputs": [],
   "source": [
    "# Video 포함 디렉토리 및 파일명 (확장자 제외, 확장자는 mp4로 고정)\n",
    "video_name = 'test'\n",
    "video_dir = os.path.join(os.getcwd(), '..', 'backend', 'videos', video_name)\n",
    "\n",
    "if not os.path.isdir(video_dir):\n",
    "    os.makedirs(os.path.dirname(video_dir))\n",
    "\n",
    "# Youtube Video Link 입력 또는 Youtube ID 입력\n",
    "\n",
    "video_id = 'QgaTjRH5sqk'\n",
    "video_link = f'https://www.youtube.com/watch?v={video_id}'"
   ]
  },
  {
   "cell_type": "markdown",
   "metadata": {},
   "source": [
    "#### 비디오 파일 확인 및 다운로드"
   ]
  },
  {
   "cell_type": "code",
   "execution_count": 5,
   "metadata": {},
   "outputs": [
    {
     "name": "stdout",
     "output_type": "stream",
     "text": [
      "Download Video from https://www.youtube.com/watch?v=QgaTjRH5sqk to ./test.mp4\n",
      "[youtube] Extracting URL: https://www.youtube.com/watch?v=QgaTjRH5sqk\n",
      "[youtube] QgaTjRH5sqk: Downloading webpage\n",
      "[youtube] QgaTjRH5sqk: Downloading ios player API JSON\n",
      "[youtube] QgaTjRH5sqk: Downloading mweb player API JSON\n",
      "[youtube] QgaTjRH5sqk: Downloading m3u8 information\n",
      "[info] QgaTjRH5sqk: Downloading 1 format(s): 18\n",
      "[download] Destination: ./test.mp4\n",
      "[download] 100% of    2.58MiB in 00:00:00 at 3.48MiB/s     \n"
     ]
    }
   ],
   "source": [
    "# Youtube Video Link로부터 Video 다운로드\n",
    "video_path = os.path.join(video_dir, video_name)\n",
    "\n",
    "# 파일 존재하는지 체크\n",
    "if not os.path.isfile(f'{video_path}.mp4'):\n",
    "    print(f'Download Video from {video_link} to {video_path}.mp4')\n",
    "    download_video(video_link, video_path)\n",
    "else: \n",
    "    print(f'File {video_path}.mp4 already exists')"
   ]
  },
  {
   "cell_type": "markdown",
   "metadata": {},
   "source": [
    "### Get frame from the video\n",
    "---\n",
    "#### Frame config"
   ]
  },
  {
   "cell_type": "code",
   "execution_count": null,
   "metadata": {},
   "outputs": [],
   "source": [
    "# fps, frame number 입력\n",
    "fps = 20 # default: 20\n",
    "frame_num = 300"
   ]
  },
  {
   "cell_type": "markdown",
   "metadata": {},
   "source": [
    "#### Show frame"
   ]
  },
  {
   "cell_type": "code",
   "execution_count": null,
   "metadata": {},
   "outputs": [],
   "source": [
    "video_path = os.path.join(video_dir, video_name) + '.mp4'\n",
    "\n",
    "frame = extract_frame(video_path, fps, frame_num)\n",
    "\n",
    "if frame is not None:\n",
    "    fig, ax = plt.subplots(figsize=[10, 10])\n",
    "    ax.set_xticks([])\n",
    "    ax.set_yticks([])\n",
    "    ax.imshow(frame)\n",
    "\n",
    "    plt.show()"
   ]
  },
  {
   "cell_type": "markdown",
   "metadata": {},
   "source": [
    "#### Save frame"
   ]
  },
  {
   "cell_type": "code",
   "execution_count": null,
   "metadata": {},
   "outputs": [],
   "source": [
    "save_dir = video_dir\n",
    "save_name = video_name\n",
    "\n",
    "save_path = os.path.join(save_dir, save_name)\n",
    "plt.imsave(f'{save_path}_frame{frame_num}.png', frame)"
   ]
  }
 ],
 "metadata": {
  "kernelspec": {
   "display_name": "Python 3",
   "language": "python",
   "name": "python3"
  },
  "language_info": {
   "codemirror_mode": {
    "name": "ipython",
    "version": 3
   },
   "file_extension": ".py",
   "mimetype": "text/x-python",
   "name": "python",
   "nbconvert_exporter": "python",
   "pygments_lexer": "ipython3",
   "version": "3.11.8"
  }
 },
 "nbformat": 4,
 "nbformat_minor": 2
}
